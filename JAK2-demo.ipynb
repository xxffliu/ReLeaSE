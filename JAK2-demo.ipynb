{
 "cells": [
  {
   "cell_type": "markdown",
   "metadata": {},
   "source": [
    "# JAK2 activity maximization with Deep Reinforcement Learning demo"
   ]
  },
  {
   "cell_type": "markdown",
   "metadata": {},
   "source": [
    "In this experiment we will optimized parameters of pretrained generative RNN to produce molecules with maximized pIC50 for JAK2. We will use a combination of different optimization strategies including fine-tuning (aka transfer learning), policy gradient and policy gradient with experince replay."
   ]
  },
  {
   "cell_type": "markdown",
   "metadata": {},
   "source": [
    "## Imports"
   ]
  },
  {
   "cell_type": "code",
   "execution_count": 25,
   "metadata": {},
   "outputs": [
    {
     "name": "stdout",
     "output_type": "stream",
     "text": [
      "env: CUDA_VISIBLE_DEVICES=2\n"
     ]
    }
   ],
   "source": [
    "%env CUDA_VISIBLE_DEVICES=2"
   ]
  },
  {
   "cell_type": "code",
   "execution_count": 26,
   "metadata": {},
   "outputs": [
    {
     "name": "stdout",
     "output_type": "stream",
     "text": [
      "The autoreload extension is already loaded. To reload it, use:\n",
      "  %reload_ext autoreload\n"
     ]
    }
   ],
   "source": [
    "%load_ext autoreload\n",
    "%autoreload 2"
   ]
  },
  {
   "cell_type": "code",
   "execution_count": 27,
   "metadata": {},
   "outputs": [],
   "source": [
    "import torch"
   ]
  },
  {
   "cell_type": "code",
   "execution_count": 28,
   "metadata": {},
   "outputs": [],
   "source": [
    "use_cuda = torch.cuda.is_available()"
   ]
  },
  {
   "cell_type": "code",
   "execution_count": 29,
   "metadata": {},
   "outputs": [],
   "source": [
    "import numpy as np\n",
    "\n",
    "from rdkit import Chem\n",
    "from rdkit import DataStructs\n",
    "from rdkit.Chem.Fingerprints import FingerprintMols\n",
    "from stackRNN import StackAugmentedGRU\n",
    "from predictor import RandomForestQSAR\n",
    "from data import GeneratorData\n",
    "from data import PredictorData\n",
    "from data import sanitize_smiles\n",
    "from data import cross_validation_split\n",
    "from data import save_smi_to_file\n",
    "from reinforcement import Reinforcement\n",
    "from ReplayMemory import ReplayMemory"
   ]
  },
  {
   "cell_type": "code",
   "execution_count": 30,
   "metadata": {},
   "outputs": [],
   "source": [
    "import matplotlib.pyplot as plt\n",
    "%matplotlib inline"
   ]
  },
  {
   "cell_type": "markdown",
   "metadata": {},
   "source": [
    "## Constants"
   ]
  },
  {
   "cell_type": "code",
   "execution_count": 31,
   "metadata": {},
   "outputs": [],
   "source": [
    "threshold = 0.1"
   ]
  },
  {
   "cell_type": "markdown",
   "metadata": {},
   "source": [
    "## Reading data"
   ]
  },
  {
   "cell_type": "code",
   "execution_count": 32,
   "metadata": {},
   "outputs": [],
   "source": [
    "gen_data_path = './data/chembl_22_clean_1576904_sorted_std_final.smi'\n",
    "jak2_data_path = './data/jak2_data.csv'"
   ]
  },
  {
   "cell_type": "code",
   "execution_count": 33,
   "metadata": {},
   "outputs": [],
   "source": [
    "gen_data = GeneratorData(training_data_path=gen_data_path, use_cuda=use_cuda)"
   ]
  },
  {
   "cell_type": "code",
   "execution_count": 34,
   "metadata": {},
   "outputs": [],
   "source": [
    "jak2_data = PredictorData(path=jak2_data_path, use_cuda=use_cuda, cols=[0, 1])"
   ]
  },
  {
   "cell_type": "code",
   "execution_count": 35,
   "metadata": {},
   "outputs": [],
   "source": [
    "jak2_data.binarize(threshold=7.0)"
   ]
  },
  {
   "cell_type": "code",
   "execution_count": 36,
   "metadata": {},
   "outputs": [
    {
     "data": {
      "text/plain": [
       "(array([ 666.,    0.,    0.,    0.,    0.,    0.,    0.,    0.,    0.,\n",
       "        1245.]),\n",
       " array([0. , 0.1, 0.2, 0.3, 0.4, 0.5, 0.6, 0.7, 0.8, 0.9, 1. ]),\n",
       " <a list of 10 Patch objects>)"
      ]
     },
     "execution_count": 36,
     "metadata": {},
     "output_type": "execute_result"
    },
    {
     "data": {
      "image/png": "[encoded data removed]",
      "text/plain": [
       "<Figure size 432x288 with 1 Axes>"
      ]
     },
     "metadata": {},
     "output_type": "display_data"
    }
   ],
   "source": [
    "plt.hist(jak2_data.binary_labels)"
   ]
  },
  {
   "cell_type": "code",
   "execution_count": 37,
   "metadata": {},
   "outputs": [],
   "source": [
    "tokens = ['<', '>', '#', '%', ')', '(', '+', '-', '/', '.', '1', '0', '3', '2', '5', '4', '7',\n",
    "          '6', '9', '8', '=', 'A', '@', 'C', 'B', 'F', 'I', 'H', 'O', 'N', 'P', 'S', '[', ']',\n",
    "          '\\\\', 'c', 'e', 'i', 'l', 'o', 'n', 'p', 's', 'r', '\\n']\n",
    "char2idx = {}\n",
    "gen_data.load_dictionary(tokens, char2idx)\n",
    "jak2_data.load_dictionary(tokens, char2idx)"
   ]
  },
  {
   "cell_type": "code",
   "execution_count": 38,
   "metadata": {},
   "outputs": [
    {
     "data": {
      "text/plain": [
       "45"
      ]
     },
     "execution_count": 38,
     "metadata": {},
     "output_type": "execute_result"
    }
   ],
   "source": [
    "jak2_data.n_characters"
   ]
  },
  {
   "cell_type": "markdown",
   "metadata": {},
   "source": [
    "## Util functions"
   ]
  },
  {
   "cell_type": "markdown",
   "metadata": {},
   "source": [
    "**plot_hist** function plots histogram of predicted properties and a vertical line for thershold."
   ]
  },
  {
   "cell_type": "code",
   "execution_count": 39,
   "metadata": {},
   "outputs": [],
   "source": [
    "def plot_hist(prediction, n_to_generate, threshold):\n",
    "    print(\"Mean value of predictions:\", prediction.mean())\n",
    "    print(\"Proportion of valid SMILES:\", len(prediction)/n_to_generate)\n",
    "    print(\"Proportion > threshold:\", len(np.where(prediction >= threshold)[0])/len(prediction))\n",
    "    plt.hist(prediction)\n",
    "    plt.axvline(x=threshold, color='red')\n",
    "    plt.xlabel('Predicted pIC50')\n",
    "    plt.title('Distribution of predicted logP for generated molecules')\n",
    "    plt.show()"
   ]
  },
  {
   "cell_type": "markdown",
   "metadata": {},
   "source": [
    "**estimate_and_update** function:\n",
    "\n",
    "1) generates n_to_generate number of SMILES strings\n",
    "\n",
    "2) filters invalid SMILES\n",
    "\n",
    "3) predicts logP for valid SMILES\n",
    "\n",
    "4) plots histogram of predicted logP\n",
    "\n",
    "5) Updates data structure for fine-tuning (aka transfer learning)\n",
    "\n",
    "6) Pushes newly generated SMILES to experience replay pool\n",
    "\n",
    "6) Returns valid SMILES and their predicted logPs"
   ]
  },
  {
   "cell_type": "code",
   "execution_count": 40,
   "metadata": {},
   "outputs": [],
   "source": [
    "def estimate_and_update(n_to_generate):\n",
    "    generated = []\n",
    "    for _ in range(n_to_generate):\n",
    "        generated.append(my_generator.evaluate(gen_data)[1:-1])\n",
    "    \n",
    "    sanitized = list(np.unique(sanitize_smiles(generated))[1:])\n",
    "    smiles, prediction, nan_smiles = jak2_predictor.predict(sanitized)\n",
    "    plot_hist(prediction, n_to_generate, threshold)\n",
    "    \n",
    "    for i in np.where(prediction >=threshold)[0]:\n",
    "        transfer_pool.append('<' + smiles[i] + '>')\n",
    "    \n",
    "    save_smi_to_file(transfer_data_path, transfer_pool)\n",
    "    transfer_data.update_data(transfer_data_path)\n",
    "    \n",
    "    for i in range(len(transfer_data.file)):\n",
    "        replay.push(transfer_data.file[i])\n",
    "        \n",
    "    return smiles, prediction"
   ]
  },
  {
   "cell_type": "markdown",
   "metadata": {},
   "source": [
    "## Initializing models"
   ]
  },
  {
   "cell_type": "markdown",
   "metadata": {},
   "source": [
    "Initialize stack-augmented generative RNN:"
   ]
  },
  {
   "cell_type": "code",
   "execution_count": 41,
   "metadata": {},
   "outputs": [],
   "source": [
    "hidden_size = 1500\n",
    "stack_width = 1500\n",
    "stack_depth = 200\n",
    "lr = 0.01\n",
    "\n",
    "my_generator = StackAugmentedGRU(input_size=gen_data.n_characters, hidden_size=hidden_size,\n",
    "                                 output_size=gen_data.n_characters, stack_width=stack_width,\n",
    "                                 stack_depth=stack_depth, use_cuda=use_cuda, n_layers=1,\n",
    "                                 optimizer='Adadelta', lr=lr)\n",
    "\n",
    "if use_cuda:\n",
    "    my_generator = my_generator.cuda()"
   ]
  },
  {
   "cell_type": "markdown",
   "metadata": {},
   "source": [
    "Load pretrained parameters into the model:"
   ]
  },
  {
   "cell_type": "code",
   "execution_count": 42,
   "metadata": {},
   "outputs": [],
   "source": [
    "my_generator.load_model('./checkpoints/generator/checkpoint_biggest')"
   ]
  },
  {
   "cell_type": "markdown",
   "metadata": {},
   "source": [
    "Initialize random forest predictive model:"
   ]
  },
  {
   "cell_type": "code",
   "execution_count": 43,
   "metadata": {},
   "outputs": [],
   "source": [
    "jak2_predictor = RandomForestQSAR(model_type='classifier', n_estimators=100, n_ensemble=5)"
   ]
  },
  {
   "cell_type": "markdown",
   "metadata": {},
   "source": [
    "Load pretrained parameters into the model:"
   ]
  },
  {
   "cell_type": "code",
   "execution_count": 44,
   "metadata": {},
   "outputs": [
    {
     "name": "stderr",
     "output_type": "stream",
     "text": [
      "C:\\Users\\U047856\\Programs\\anaconda3\\lib\\site-packages\\sklearn\\base.py:311: UserWarning: Trying to unpickle estimator DecisionTreeClassifier from version 0.19.1 when using version 0.19.2. This might lead to breaking code or invalid results. Use at your own risk.\n",
      "  UserWarning)\n",
      "C:\\Users\\U047856\\Programs\\anaconda3\\lib\\site-packages\\sklearn\\base.py:311: UserWarning: Trying to unpickle estimator RandomForestClassifier from version 0.19.1 when using version 0.19.2. This might lead to breaking code or invalid results. Use at your own risk.\n",
      "  UserWarning)\n"
     ]
    }
   ],
   "source": [
    "jak2_predictor.load_model('./checkpoints/JAK2/')"
   ]
  },
  {
   "cell_type": "markdown",
   "metadata": {},
   "source": [
    "Uncomment cell below to train RF from scratch:"
   ]
  },
  {
   "cell_type": "code",
   "execution_count": 45,
   "metadata": {},
   "outputs": [],
   "source": [
    "#cross_val_data, cross_val_labels = cross_validation_split(jak2_data.smiles, jak2_data.binary_labels)\n",
    "#cv_metric, metric_type = jak2_predictor.fit_model(PredictorData, cross_val_data, cross_val_labels)\n",
    "#jak2_predictor.save_model('./checkpoints/JAK2/')"
   ]
  },
  {
   "cell_type": "markdown",
   "metadata": {},
   "source": [
    "Initialize reinforcement object for biasing properties and experience replay pool:"
   ]
  },
  {
   "cell_type": "code",
   "execution_count": 46,
   "metadata": {},
   "outputs": [],
   "source": [
    "RL = Reinforcement(my_generator, jak2_predictor)\n",
    "replay = ReplayMemory(capacity=10000)"
   ]
  },
  {
   "cell_type": "markdown",
   "metadata": {},
   "source": [
    "Initialize data object for fine-tuning (aka transfer learning):"
   ]
  },
  {
   "cell_type": "code",
   "execution_count": 47,
   "metadata": {},
   "outputs": [],
   "source": [
    "transfer_data_path = './data/jak2_transfer_data.smi'\n",
    "f = open(transfer_data_path, 'w')\n",
    "f.close()\n",
    "transfer_pool = []\n",
    "transfer_data = GeneratorData(transfer_data_path)\n",
    "transfer_data.load_dictionary(tokens, char2idx)"
   ]
  },
  {
   "cell_type": "markdown",
   "metadata": {},
   "source": [
    "Estimate unbiased SMILES and update replay pool and transfer data:"
   ]
  },
  {
   "cell_type": "code",
   "execution_count": null,
   "metadata": {},
   "outputs": [
    {
     "name": "stderr",
     "output_type": "stream",
     "text": [
      "C:\\Users\\U047856\\Programs\\anaconda3\\lib\\site-packages\\torch\\nn\\functional.py:995: UserWarning: nn.functional.tanh is deprecated. Use torch.tanh instead.\n",
      "  warnings.warn(\"nn.functional.tanh is deprecated. Use torch.tanh instead.\")\n"
     ]
    }
   ],
   "source": [
    "smiles_unbiased, prediction_unbiased = estimate_and_update(n_to_generate=20000)"
   ]
  },
  {
   "cell_type": "code",
   "execution_count": null,
   "metadata": {},
   "outputs": [],
   "source": [
    "for i in np.where(prediction_unbiased >=threshold)[0]:\n",
    "        transfer_pool.append('<' + smiles_unbiased[i] + '>')\n",
    "    \n",
    "save_smi_to_file(transfer_data_path, transfer_pool)\n",
    "transfer_data.update_data(transfer_data_path)"
   ]
  },
  {
   "cell_type": "code",
   "execution_count": null,
   "metadata": {},
   "outputs": [],
   "source": [
    "for i in range(len(jak2_data.smiles)):\n",
    "    replay.push(jak2_data.smiles[i])\n",
    "for i in range(len(transfer_data.file)):\n",
    "    replay.push(transfer_data.file[i])"
   ]
  },
  {
   "cell_type": "markdown",
   "metadata": {},
   "source": [
    "## Train the model"
   ]
  },
  {
   "cell_type": "code",
   "execution_count": null,
   "metadata": {
    "scrolled": true
   },
   "outputs": [],
   "source": [
    "rewards = []\n",
    "n_to_generate = 1000\n",
    "n_policy_replay = 10\n",
    "n_policy = 5\n",
    "n_transfer = 500\n",
    "n_iterations = 5\n",
    "prediction_log = []\n",
    "\n",
    "for _ in range(n_iterations):\n",
    "     \n",
    "    ### Transfer learning \n",
    "    RL.transfer_learning(transfer_data, n_epochs=n_transfer)\n",
    "    _, prediction = estimate_and_update(n_to_generate)\n",
    "    prediction_log.append(prediction)\n",
    "    if len(np.where(prediction >= threshold)[0])/len(prediction) > 0.15:\n",
    "        threshold = min(threshold + 0.05, 0.8)\n",
    "\n",
    "    ### Policy gtadient with experience replay \n",
    "    for _ in range(n_policy_replay):\n",
    "        rewards.append(RL.policy_gradient_replay(gen_data, replay, threshold=threshold, n_batch=10))\n",
    "        print(rewards[-1])\n",
    "    \n",
    "    _, prediction = estimate_and_update(n_to_generate)\n",
    "    prediction_log.append(prediction)\n",
    "    if len(np.where(prediction >= threshold)[0])/len(prediction) > 0.15:\n",
    "        threshold = min(threshold + 0.05, 0.8)\n",
    "    \n",
    "    ### Policy graient without experinece replay \n",
    "    for _ in range(n_policy):\n",
    "        rewards.append(RL.policy_gradient(gen_data, threshold=threshold, n_batch=10))\n",
    "        print(rewards[-1]) \n",
    "\n",
    "    _, prediction = estimate_and_update(n_to_generate)\n",
    "    prediction_log.append(prediction)\n",
    "    if len(np.where(prediction >= threshold)[0])/len(prediction) > 0.15:\n",
    "        threshold = min(threshold + 0.05, 0.8)"
   ]
  },
  {
   "cell_type": "code",
   "execution_count": null,
   "metadata": {
    "scrolled": true
   },
   "outputs": [],
   "source": [
    "smiles_biased, prediction_biased = estimate_and_update(n_to_generate=10000)"
   ]
  },
  {
   "cell_type": "code",
   "execution_count": null,
   "metadata": {},
   "outputs": [],
   "source": [
    "plt.hist(prediction_biased)"
   ]
  },
  {
   "cell_type": "markdown",
   "metadata": {},
   "source": [
    "## Estimating similarity of biased and training datasets"
   ]
  },
  {
   "cell_type": "code",
   "execution_count": null,
   "metadata": {},
   "outputs": [],
   "source": [
    "generated_mols = [Chem.MolFromSmiles(sm) for sm in smiles_biased]\n",
    "generated_fps = [FingerprintMols.FingerprintMol(x) for x in generated_mols]"
   ]
  },
  {
   "cell_type": "code",
   "execution_count": null,
   "metadata": {},
   "outputs": [],
   "source": [
    "jak2_mols = [Chem.MolFromSmiles(sm) for sm in jak2_data.smiles]\n",
    "jak2_fps = [FingerprintMols.FingerprintMol(x) for x in jak2_mols]"
   ]
  },
  {
   "cell_type": "code",
   "execution_count": null,
   "metadata": {},
   "outputs": [],
   "source": [
    "#sim = []\n",
    "#sim_smiles = []\n",
    "#sim_labels = []\n",
    "for fp1 in generated_fps[2521:]:\n",
    "    max_sim = 0.0\n",
    "    for j in range(len(jak2_fps)):\n",
    "        fp2 = jak2_fps[j]\n",
    "        tmp = DataStructs.FingerprintSimilarity(fp1,fp2)\n",
    "        if tmp > max_sim:\n",
    "            max_sim = tmp\n",
    "            tmp_sm = jak2_data.smiles[j]\n",
    "            tmp_label = jak2_data.property[j]\n",
    "    sim.append(max_sim)\n",
    "    sim_smiles.append(tmp_sm)\n",
    "    sim_labels.append(tmp_label)"
   ]
  },
  {
   "cell_type": "code",
   "execution_count": null,
   "metadata": {},
   "outputs": [],
   "source": [
    "plt.hist(sim)\n",
    "print(len(sim))"
   ]
  },
  {
   "cell_type": "code",
   "execution_count": null,
   "metadata": {
    "scrolled": true
   },
   "outputs": [],
   "source": [
    "for i in range(len(smiles_biased)):\n",
    "    if prediction_biased[i] == 1.0:\n",
    "        print(smiles_biased[i])"
   ]
  },
  {
   "cell_type": "code",
   "execution_count": null,
   "metadata": {},
   "outputs": [],
   "source": [
    "save_smi_to_file('jak2_maximized.smi', smiles_biased)"
   ]
  },
  {
   "cell_type": "code",
   "execution_count": null,
   "metadata": {},
   "outputs": [],
   "source": [
    "torch.save(my_generator.state_dict(), './checkpoints/generator/jak2_max')"
   ]
  },
  {
   "cell_type": "code",
   "execution_count": null,
   "metadata": {
    "scrolled": true
   },
   "outputs": [],
   "source": [
    "for i in range(100):\n",
    "    jak2_compounds = []\n",
    "    while (len(jak2_compounds) <= 1000):\n",
    "        sm = my_generator.evaluate(gen_data, temperature=0.6)[1:-1]\n",
    "        clean_sm, pred, nan_sm = jak2_predictor.predict([sm])\n",
    "        if len(clean_sm) > 0 and pred[0] >= 0.8:\n",
    "            jak2_compounds += clean_sm\n",
    "    save_smi_to_file('./generated_compounds/jak2_v1/' + str(i) + '.txt', jak2_compounds)\n",
    "    print(str(i*1000) + ' SMILES generated')"
   ]
  },
  {
   "cell_type": "code",
   "execution_count": null,
   "metadata": {},
   "outputs": [],
   "source": [
    "jak2_compounds"
   ]
  },
  {
   "cell_type": "code",
   "execution_count": null,
   "metadata": {},
   "outputs": [],
   "source": []
  }
 ],
 "metadata": {
  "anaconda-cloud": {},
  "kernelspec": {
   "display_name": "Python 3",
   "language": "python",
   "name": "python3"
  },
  "language_info": {
   "codemirror_mode": {
    "name": "ipython",
    "version": 3
   },
   "file_extension": ".py",
   "mimetype": "text/x-python",
   "name": "python",
   "nbconvert_exporter": "python",
   "pygments_lexer": "ipython3",
   "version": "3.6.5"
  }
 },
 "nbformat": 4,
 "nbformat_minor": 2
}
